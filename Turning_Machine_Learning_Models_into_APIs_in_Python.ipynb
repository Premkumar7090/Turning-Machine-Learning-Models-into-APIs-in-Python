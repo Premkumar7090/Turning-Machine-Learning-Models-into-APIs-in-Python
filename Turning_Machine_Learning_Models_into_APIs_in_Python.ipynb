{
  "nbformat": 4,
  "nbformat_minor": 5,
  "metadata": {
    "kernelspec": {
      "display_name": "Python 3",
      "language": "python",
      "name": "python3"
    },
    "language_info": {
      "codemirror_mode": {
        "name": "ipython",
        "version": 3
      },
      "file_extension": ".py",
      "mimetype": "text/x-python",
      "name": "python",
      "nbconvert_exporter": "python",
      "pygments_lexer": "ipython3",
      "version": "3.6.12"
    },
    "colab": {
      "name": "Turning Machine Learning Models into APIs in Python.ipynb",
      "provenance": []
    }
  },
  "cells": [
    {
      "cell_type": "code",
      "metadata": {
        "colab": {
          "base_uri": "https://localhost:8080/"
        },
        "id": "governmental-binding",
        "outputId": "f24603c1-e8c9-4220-a169-2f4a153286b6"
      },
      "source": [
        "pip install flask"
      ],
      "id": "governmental-binding",
      "execution_count": 1,
      "outputs": [
        {
          "output_type": "stream",
          "text": [
            "Requirement already satisfied: flask in /usr/local/lib/python3.7/dist-packages (1.1.2)\n",
            "Requirement already satisfied: click>=5.1 in /usr/local/lib/python3.7/dist-packages (from flask) (7.1.2)\n",
            "Requirement already satisfied: itsdangerous>=0.24 in /usr/local/lib/python3.7/dist-packages (from flask) (1.1.0)\n",
            "Requirement already satisfied: Werkzeug>=0.15 in /usr/local/lib/python3.7/dist-packages (from flask) (1.0.1)\n",
            "Requirement already satisfied: Jinja2>=2.10.1 in /usr/local/lib/python3.7/dist-packages (from flask) (2.11.3)\n",
            "Requirement already satisfied: MarkupSafe>=0.23 in /usr/local/lib/python3.7/dist-packages (from Jinja2>=2.10.1->flask) (1.1.1)\n"
          ],
          "name": "stdout"
        }
      ]
    },
    {
      "cell_type": "code",
      "metadata": {
        "colab": {
          "base_uri": "https://localhost:8080/"
        },
        "id": "productive-implement",
        "outputId": "4a29971b-0240-4658-fc00-1ec0aa24304b"
      },
      "source": [
        "from flask import Flask\n",
        "\n",
        "app = Flask(__name__)\n",
        "\n",
        "\n",
        "@app.route(\"/\")\n",
        "def hello():\n",
        "    return \"Welcome to the World of Data Science\"\n",
        "\n",
        "\n",
        "if __name__ == '__main__':\n",
        "    app.run(debug=True, use_reloader=False)"
      ],
      "id": "productive-implement",
      "execution_count": 1,
      "outputs": [
        {
          "output_type": "stream",
          "text": [
            " * Serving Flask app \"__main__\" (lazy loading)\n",
            " * Environment: production\n",
            "\u001b[31m   WARNING: This is a development server. Do not use it in a production deployment.\u001b[0m\n",
            "\u001b[2m   Use a production WSGI server instead.\u001b[0m\n",
            " * Debug mode: on\n"
          ],
          "name": "stdout"
        },
        {
          "output_type": "stream",
          "text": [
            " * Running on http://127.0.0.1:5000/ (Press CTRL+C to quit)\n"
          ],
          "name": "stderr"
        }
      ]
    },
    {
      "cell_type": "code",
      "metadata": {
        "id": "hollow-failing"
      },
      "source": [
        "# Import dependencies\n",
        "import pandas as pd\n",
        "import numpy as np"
      ],
      "id": "hollow-failing",
      "execution_count": 2,
      "outputs": []
    },
    {
      "cell_type": "code",
      "metadata": {
        "id": "military-spank"
      },
      "source": [
        "# Load the dataset in a dataframe object and include only four features as mentioned\n",
        "url = \"http://s3.amazonaws.com/assets.datacamp.com/course/Kaggle/train.csv\"\n",
        "df = pd.read_csv(url)\n",
        "include = ['Age', 'Sex', 'Embarked', 'Survived'] # Only four features\n",
        "df_ = df[include]"
      ],
      "id": "military-spank",
      "execution_count": 3,
      "outputs": []
    },
    {
      "cell_type": "code",
      "metadata": {
        "colab": {
          "base_uri": "https://localhost:8080/"
        },
        "id": "periodic-training",
        "outputId": "21c722cd-5d9e-4bfe-baf7-0ef051407ca9"
      },
      "source": [
        "# Data Preprocessing\n",
        "categoricals = []\n",
        "for col, col_type in df_.dtypes.iteritems():\n",
        "     if col_type == 'O':\n",
        "          categoricals.append(col)\n",
        "     else:\n",
        "          df_[col].fillna(0, inplace=True)"
      ],
      "id": "periodic-training",
      "execution_count": 4,
      "outputs": [
        {
          "output_type": "stream",
          "text": [
            "/usr/local/lib/python3.7/dist-packages/pandas/core/series.py:4536: SettingWithCopyWarning: \n",
            "A value is trying to be set on a copy of a slice from a DataFrame\n",
            "\n",
            "See the caveats in the documentation: https://pandas.pydata.org/pandas-docs/stable/user_guide/indexing.html#returning-a-view-versus-a-copy\n",
            "  downcast=downcast,\n"
          ],
          "name": "stderr"
        }
      ]
    },
    {
      "cell_type": "code",
      "metadata": {
        "id": "posted-commercial"
      },
      "source": [
        "df_ohe = pd.get_dummies(df_, columns=categoricals, dummy_na=True)"
      ],
      "id": "posted-commercial",
      "execution_count": 5,
      "outputs": []
    },
    {
      "cell_type": "code",
      "metadata": {
        "colab": {
          "base_uri": "https://localhost:8080/"
        },
        "id": "intense-settlement",
        "outputId": "a47511ef-bad0-470b-9058-93d4c8abccdd"
      },
      "source": [
        "# Logistic Regression classifier\n",
        "from sklearn.linear_model import LogisticRegression\n",
        "dependent_variable = 'Survived'\n",
        "x = df_ohe[df_ohe.columns.difference([dependent_variable])]\n",
        "y = df_ohe[dependent_variable]\n",
        "lr = LogisticRegression()\n",
        "lr.fit(x, y)"
      ],
      "id": "intense-settlement",
      "execution_count": 6,
      "outputs": [
        {
          "output_type": "execute_result",
          "data": {
            "text/plain": [
              "LogisticRegression(C=1.0, class_weight=None, dual=False, fit_intercept=True,\n",
              "                   intercept_scaling=1, l1_ratio=None, max_iter=100,\n",
              "                   multi_class='auto', n_jobs=None, penalty='l2',\n",
              "                   random_state=None, solver='lbfgs', tol=0.0001, verbose=0,\n",
              "                   warm_start=False)"
            ]
          },
          "metadata": {
            "tags": []
          },
          "execution_count": 6
        }
      ]
    },
    {
      "cell_type": "code",
      "metadata": {
        "colab": {
          "base_uri": "https://localhost:8080/"
        },
        "id": "integral-evolution",
        "outputId": "c4a5b723-7673-4e86-a4cc-661d2d60457b"
      },
      "source": [
        "# Save your model\n",
        "from sklearn.externals import joblib\n",
        "joblib.dump(lr, 'model.pkl')\n",
        "print(\"Model dumped!\")"
      ],
      "id": "integral-evolution",
      "execution_count": 7,
      "outputs": [
        {
          "output_type": "stream",
          "text": [
            "Model dumped!\n"
          ],
          "name": "stdout"
        },
        {
          "output_type": "stream",
          "text": [
            "/usr/local/lib/python3.7/dist-packages/sklearn/externals/joblib/__init__.py:15: FutureWarning: sklearn.externals.joblib is deprecated in 0.21 and will be removed in 0.23. Please import this functionality directly from joblib, which can be installed with: pip install joblib. If this warning is raised when loading pickled models, you may need to re-serialize those models with scikit-learn 0.21+.\n",
            "  warnings.warn(msg, category=FutureWarning)\n"
          ],
          "name": "stderr"
        }
      ]
    },
    {
      "cell_type": "code",
      "metadata": {
        "colab": {
          "base_uri": "https://localhost:8080/"
        },
        "id": "permanent-proportion",
        "outputId": "f9355482-bb1e-46f5-94ba-cb048f38a7ac"
      },
      "source": [
        "# Load the model that you just saved\n",
        "lr = joblib.load('model.pkl')\n",
        "\n",
        "# Saving the data columns from training\n",
        "model_columns = list(x.columns)\n",
        "joblib.dump(model_columns, 'model_columns.pkl')\n",
        "print(\"Models columns dumped!\")"
      ],
      "id": "permanent-proportion",
      "execution_count": 8,
      "outputs": [
        {
          "output_type": "stream",
          "text": [
            "Models columns dumped!\n"
          ],
          "name": "stdout"
        }
      ]
    },
    {
      "cell_type": "code",
      "metadata": {
        "colab": {
          "base_uri": "https://localhost:8080/"
        },
        "id": "christian-value",
        "outputId": "22b03205-1c9a-4479-e14e-f2dd971f1058"
      },
      "source": [
        "# Dependencies\n",
        "from flask import Flask, request, jsonify\n",
        "from sklearn.externals import joblib\n",
        "import traceback\n",
        "import pandas as pd\n",
        "import numpy as np\n",
        "\n",
        "# Your API definition\n",
        "app = Flask(__name__)\n",
        "\n",
        "@app.route('/predict', methods=['POST'])\n",
        "def predict():\n",
        "    if lr:\n",
        "        try:\n",
        "            json_ = request.json\n",
        "            print(json_)\n",
        "            query = pd.get_dummies(pd.DataFrame(json_))\n",
        "            query = query.reindex(columns=model_columns, fill_value=0)\n",
        "\n",
        "            prediction = list(lr.predict(query))\n",
        "\n",
        "            return jsonify({'prediction': str(prediction)})\n",
        "\n",
        "        except:\n",
        "\n",
        "            return jsonify({'trace': traceback.format_exc()})\n",
        "    else:\n",
        "        print ('Train the model first')\n",
        "        return ('No model here to use')\n",
        "\n",
        "if __name__ == '__main__':\n",
        "    try:\n",
        "        port = int(sys.argv[1]) # This is for a command-line input\n",
        "    except:\n",
        "        port = 12345 # If you don't provide any port the port will be set to 12345\n",
        "\n",
        "    lr = joblib.load(\"model.pkl\") # Load \"model.pkl\"\n",
        "    print ('Model loaded')\n",
        "    model_columns = joblib.load(\"model_columns.pkl\") # Load \"model_columns.pkl\"\n",
        "    print ('Model columns loaded')\n",
        "\n",
        "    app.run(port=port, debug=True,use_reloader=False)"
      ],
      "id": "christian-value",
      "execution_count": 9,
      "outputs": [
        {
          "output_type": "stream",
          "text": [
            "Model loaded\n",
            "Model columns loaded\n",
            " * Serving Flask app \"__main__\" (lazy loading)\n",
            " * Environment: production\n",
            "\u001b[31m   WARNING: This is a development server. Do not use it in a production deployment.\u001b[0m\n",
            "\u001b[2m   Use a production WSGI server instead.\u001b[0m\n",
            " * Debug mode: on\n"
          ],
          "name": "stdout"
        },
        {
          "output_type": "stream",
          "text": [
            " * Running on http://127.0.0.1:12345/ (Press CTRL+C to quit)\n"
          ],
          "name": "stderr"
        }
      ]
    },
    {
      "cell_type": "code",
      "metadata": {
        "id": "pending-hudson"
      },
      "source": [
        ""
      ],
      "id": "pending-hudson",
      "execution_count": null,
      "outputs": []
    }
  ]
}